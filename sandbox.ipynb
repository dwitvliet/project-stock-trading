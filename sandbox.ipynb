{
 "cells": [
  {
   "cell_type": "markdown",
   "metadata": {},
   "source": [
    "# Sandbox used for exploring data\n"
   ]
  },
  {
   "cell_type": "code",
   "execution_count": 1,
   "metadata": {},
   "outputs": [],
   "source": [
    "import os\n",
    "import sys\n",
    "import time\n",
    "import datetime\n",
    "import logging\n",
    "logging.basicConfig(\n",
    "    format='%(asctime)s %(message)s', \n",
    "    datefmt='%H:%M:%S',\n",
    "    level=logging.INFO, \n",
    "    stream=sys.stdout\n",
    ")\n",
    "\n",
    "import numpy as np\n",
    "import scipy as sc\n",
    "import sklearn\n",
    "\n",
    "import pandas as pd\n",
    "pd.set_option('display.max_rows', 100)\n",
    "pd.set_option('display.max_columns', 100)\n",
    "\n",
    "import matplotlib as mpl\n",
    "import matplotlib.pyplot as plt\n",
    "%matplotlib inline\n",
    "%config InlineBackend.figure_format = 'retina'\n",
    "\n",
    "import seaborn as sns\n",
    "sns.set_context('poster')\n",
    "sns.set(rc={'figure.figsize': (16, 9)})\n",
    "sns.set_style('whitegrid')\n",
    "\n",
    "%load_ext autoreload\n",
    "%autoreload 2\n",
    "import config\n",
    "import data.data_manager as data\n",
    "from data.database import Database\n",
    "from utils import descriptive_stats, performance_metrics\n",
    "\n",
    "\n",
    "db = Database(config.database)\n",
    "api = APIManager(config.api_key)"
   ]
  },
  {
   "cell_type": "markdown",
   "metadata": {},
   "source": [
    "## Trades"
   ]
  },
  {
   "cell_type": "markdown",
   "metadata": {},
   "source": [
    "### Open hours"
   ]
  },
  {
   "cell_type": "code",
   "execution_count": null,
   "metadata": {},
   "outputs": [],
   "source": [
    "ticker = 'MSFT'\n",
    "exchange = db.get_ticker_details(ticker)['exchange']\n",
    "\n",
    "stored_dates = sorted(db.get_stored_dates('trades', ticker))\n",
    "\n",
    "# Determine which hours the exchange is open, and which are before/after hours.\n",
    "holidays = dict(db.get_holidays(exchange))\n",
    "hours = {}\n",
    "for date in stored_dates:\n",
    "    hours[date] = {\n",
    "        'open': datetime.time(9, 30), \n",
    "        'pre-open': datetime.time(9, 0),\n",
    "        'close': datetime.time(16, 0),\n",
    "        'post-close': datetime.time(18, 0),\n",
    "    }\n",
    "    if date in holidays and holidays[date] == 'half':\n",
    "        hours[date]['close'] = datetime.time(13, 0)\n",
    "        hours[date]['post-close'] = datetime.time(15, 0)\n"
   ]
  }
 ],
 "metadata": {
  "kernelspec": {
   "display_name": "Python 3",
   "language": "python",
   "name": "python3"
  },
  "language_info": {
   "codemirror_mode": {
    "name": "ipython",
    "version": 3
   },
   "file_extension": ".py",
   "mimetype": "text/x-python",
   "name": "python",
   "nbconvert_exporter": "python",
   "pygments_lexer": "ipython3",
   "version": "3.6.9"
  }
 },
 "nbformat": 4,
 "nbformat_minor": 4
}
