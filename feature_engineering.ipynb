{
 "cells": [
  {
   "cell_type": "markdown",
   "metadata": {},
   "source": [
    "# Feature engineering\n",
    "\n",
    "_Goal: to predict the price of a stock in the near future._\n",
    "\n",
    "Engineers features from raw trade. Features are stored back in the database as they can take a while to calculate.\n",
    "\n",
    "Feature ideas:\n",
    "\n",
    "- Summary stats of previous prices and volumes (https://alphascientist.com/feature_engineering.html).\n",
    "- Trading markers (https://blog.roboforex.com/blog/2020/01/10/creating-a-trading-strategies-based-on-the-mean-reversion-and-momentum/).\n",
    "- Stats on quotes.\n",
    "- Relevant news articles.\n",
    "- Mentions on social networks.\n",
    "\n"
   ]
  },
  {
   "cell_type": "code",
   "execution_count": 4,
   "metadata": {},
   "outputs": [],
   "source": [
    "import os\n",
    "import logging\n",
    "\n",
    "import config\n",
    "\n",
    "logging.basicConfig(format='%(asctime)s %(message)s', datefmt='%H:%M:%S')\n",
    "logger = logging.getLogger()\n",
    "logger.setLevel(logging.INFO)\n",
    "\n",
    "from data.database import Database\n",
    "from data.api_manager import API_Manager\n",
    "\n",
    "db = Database(config.database)\n",
    "api = API_Manager(config.api_key)"
   ]
  },
  {
   "cell_type": "code",
   "execution_count": null,
   "metadata": {},
   "outputs": [],
   "source": [
    "ticker = 'MSFT'\n",
    "date_from = '2015-01-01'\n",
    "date_to = '2020-12-31'\n",
    "\n",
    "ticker_details = db.get_ticker_details(ticker)\n",
    "if ticker_details is None:\n",
    "    ticker_details = db.store_ticker_details(api.get_ticker_details(ticker))\n",
    "\n",
    "dates_with_trades = db.get_open_dates(ticker_details['exchange'], date_from, date_to)\n",
    "dates_already_stored = db.get_stored_dates('trades', ticker)\n",
    "dates_to_fetch = [d for d in dates_with_trades if d not in dates_already_stored]\n",
    "\n",
    "logging.info(f'Fetching {len(dates_to_fetch)} days of {ticker} trades.')\n",
    "for date in dates_to_fetch:\n",
    "    \n",
    "    time_before_fetch = time.time()\n",
    "    trades = api.get_daily_trades(ticker, date)\n",
    "    \n",
    "    time_before_store = time.time()\n",
    "    db.store_trades(ticker, date, trades)\n",
    "    \n",
    "    time_to_fetch = int(round(time_before_store - time_before_fetch))\n",
    "    time_to_store = int(round(time.time() - time_before_store))\n",
    "    logging.info(f'{ticker} {date} - fetch time: {time_to_fetch}s, store time: {time_to_store}s')"
   ]
  }
 ],
 "metadata": {
  "kernelspec": {
   "display_name": "Python 3",
   "language": "python",
   "name": "python3"
  },
  "language_info": {
   "codemirror_mode": {
    "name": "ipython",
    "version": 3
   },
   "file_extension": ".py",
   "mimetype": "text/x-python",
   "name": "python",
   "nbconvert_exporter": "python",
   "pygments_lexer": "ipython3",
   "version": "3.6.9"
  }
 },
 "nbformat": 4,
 "nbformat_minor": 4
}
