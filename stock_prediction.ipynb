{
 "cells": [
  {
   "cell_type": "markdown",
   "metadata": {},
   "source": [
    "# Sample project: stock prediction and trading\n",
    "\n",
    "_Goal: to predict the price of a stock in the near future._\n",
    "\n"
   ]
  },
  {
   "cell_type": "markdown",
   "metadata": {},
   "source": [
    "## Setup\n",
    "\n",
    "Configure logging, import config, and connect to database."
   ]
  },
  {
   "cell_type": "code",
   "execution_count": 1,
   "metadata": {},
   "outputs": [],
   "source": [
    "%matplotlib inline\n",
    "\n",
    "import os\n",
    "import time\n",
    "import datetime\n",
    "import logging\n",
    "\n",
    "import numpy as np\n",
    "import pandas as pd\n",
    "import matplotlib.pyplot as plt\n",
    "\n",
    "import config\n",
    "from data.database import Database\n",
    "from data.api_manager import API_Manager\n",
    "from utils.descriptive_stats import weighted_mean\n",
    "\n",
    "logging.basicConfig(format='%(asctime)s %(message)s', datefmt='%H:%M:%S')\n",
    "logger = logging.getLogger()\n",
    "logger.setLevel(logging.INFO)\n",
    "\n",
    "db = Database(config.database)\n",
    "api = API_Manager(config.api_key)\n"
   ]
  },
  {
   "cell_type": "markdown",
   "metadata": {},
   "source": [
    "## Fetch trades from API\n",
    "\n",
    "Fetch all trades for ticker within date range and store them in the database."
   ]
  },
  {
   "cell_type": "code",
   "execution_count": 2,
   "metadata": {},
   "outputs": [
    {
     "name": "stderr",
     "output_type": "stream",
     "text": [
      "23:36:49 Fetching 0 days of MSFT trades.\n"
     ]
    }
   ],
   "source": [
    "ticker = 'MSFT'\n",
    "date_from = '2015-01-01'\n",
    "date_to = '2020-12-31'\n",
    "\n",
    "ticker_details = db.get_ticker_details(ticker)\n",
    "if ticker_details is None:\n",
    "    ticker_details = db.store_ticker_details(api.get_ticker_details(ticker))\n",
    "\n",
    "dates_with_trades = db.get_open_dates(ticker_details['exchange'], date_from, date_to)\n",
    "dates_already_stored = db.get_stored_dates('trades', ticker)\n",
    "dates_to_fetch = [d for d in dates_with_trades if d not in dates_already_stored]\n",
    "\n",
    "logging.info(f'Fetching {len(dates_to_fetch)} days of {ticker} trades.')\n",
    "for date in dates_to_fetch:\n",
    "    \n",
    "    # Download raw trades.\n",
    "    time_before_fetch = time.time()\n",
    "    trades = api.get_daily_trades(ticker, date)\n",
    "    \n",
    "    # Convert data to dataframe.\n",
    "    time_before_process = time.time()\n",
    "    trades = pd.DataFrame(trades)[['t', 'p', 's']]\n",
    "    trades = trades.rename(columns={'t': 'timestamp', 'p': 'price', 's': 'volume'})\n",
    "\n",
    "    # Store raw trades and bars in database.\n",
    "    time_before_store = time.time()\n",
    "    db.store_trades(ticker, date, trades)\n",
    "    \n",
    "    time_to_fetch = int(round(time_before_process - time_before_fetch))\n",
    "    time_to_process = int(round(time_before_store - time_before_process))\n",
    "    time_to_store = int(round(time.time() - time_before_store))\n",
    "    logging.info(\n",
    "        f'{ticker} {date} - '\n",
    "        f'fetch time: {time_to_fetch}s, '\n",
    "        f'process time: {time_to_process}s, '\n",
    "        f'store time: {time_to_store}s'\n",
    "    )"
   ]
  },
  {
   "cell_type": "markdown",
   "metadata": {},
   "source": [
    "## Feature engineering\n",
    "\n",
    "For every `n` seconds during open hours, calculate target price and features. For now, `n` is set to `1`. Features are stored back in the database as they can take a while to calculate. \n",
    "\n",
    "Feature ideas:\n",
    "\n",
    "- Summary stats of previous prices and volumes (https://alphascientist.com/feature_engineering.html).\n",
    "- Trading markers (https://blog.roboforex.com/blog/2020/01/10/creating-a-trading-strategies-based-on-the-mean-reversion-and-momentum/).\n",
    "- Stats on quotes.\n",
    "- Relevant news articles.\n",
    "- Mentions on social networks.\n"
   ]
  },
  {
   "cell_type": "code",
   "execution_count": 50,
   "metadata": {},
   "outputs": [
    {
     "name": "stdout",
     "output_type": "stream",
     "text": [
      "2015-01-08 04:00:00.106000 2015-01-08 19:59:00.306000\n",
      "2015-05-28 04:20:10.281000 2015-05-28 19:20:17.191000\n"
     ]
    },
    {
     "data": {
      "text/html": [
       "<div>\n",
       "<style scoped>\n",
       "    .dataframe tbody tr th:only-of-type {\n",
       "        vertical-align: middle;\n",
       "    }\n",
       "\n",
       "    .dataframe tbody tr th {\n",
       "        vertical-align: top;\n",
       "    }\n",
       "\n",
       "    .dataframe thead th {\n",
       "        text-align: right;\n",
       "    }\n",
       "</style>\n",
       "<table border=\"1\" class=\"dataframe\">\n",
       "  <thead>\n",
       "    <tr style=\"text-align: right;\">\n",
       "      <th></th>\n",
       "      <th>price</th>\n",
       "    </tr>\n",
       "  </thead>\n",
       "  <tbody>\n",
       "    <tr>\n",
       "      <th>2015-05-28 09:00:00</th>\n",
       "      <td>NaN</td>\n",
       "    </tr>\n",
       "    <tr>\n",
       "      <th>2015-05-28 09:00:01</th>\n",
       "      <td>NaN</td>\n",
       "    </tr>\n",
       "    <tr>\n",
       "      <th>2015-05-28 09:00:02</th>\n",
       "      <td>NaN</td>\n",
       "    </tr>\n",
       "    <tr>\n",
       "      <th>2015-05-28 09:00:03</th>\n",
       "      <td>NaN</td>\n",
       "    </tr>\n",
       "    <tr>\n",
       "      <th>2015-05-28 09:00:04</th>\n",
       "      <td>NaN</td>\n",
       "    </tr>\n",
       "  </tbody>\n",
       "</table>\n",
       "</div>"
      ],
      "text/plain": [
       "                     price\n",
       "2015-05-28 09:00:00    NaN\n",
       "2015-05-28 09:00:01    NaN\n",
       "2015-05-28 09:00:02    NaN\n",
       "2015-05-28 09:00:03    NaN\n",
       "2015-05-28 09:00:04    NaN"
      ]
     },
     "execution_count": 50,
     "metadata": {},
     "output_type": "execute_result"
    }
   ],
   "source": [
    "def stats_per_second(trades):\n",
    "    \"\"\" Calculate descriptive stats for trades for every second.\n",
    "    \n",
    "    Stats are calculated in the second _before_ the time listed to prevent\n",
    "    future data leakage.\n",
    "    \n",
    "    \"\"\"\n",
    "    trades_grouped = trades.groupby(\n",
    "        pd.Grouper(key='time', freq='1S')\n",
    "    )\n",
    "    \n",
    "    price_stats = trades_grouped['price'].agg(['count', 'mean', 'median', 'min', 'max', 'std'])\n",
    "#     price_bars_weighted = trades_grouped.apply(get_weighted_bars)\n",
    "    \n",
    "    volume_stats = trades_grouped['volume'].agg(['sum', 'mean', 'median', 'min', 'max', 'std'])\n",
    "    \n",
    "    \n",
    "\n",
    "ticker = 'MSFT'\n",
    "exchange = db.get_ticker_details(ticker)['exchange']\n",
    "\n",
    "stored_dates = sorted(db.get_stored_dates('trades', ticker))\n",
    "open_hours = db.get_open_hours(stored_dates, exchange)\n",
    "\n",
    "for date in [stored_dates[4], stored_dates[100]]:\n",
    "    \n",
    "    trades = db.get_trades(ticker, date)\n",
    "    print(trades.iloc[0]['time'], trades.iloc[-1]['time'])\n",
    "    \n",
    "    open_time, close_time = open_hours[date]\n",
    "    price_index = pd.date_range(\n",
    "        datetime.datetime.combine(date, open_time),\n",
    "        datetime.datetime.combine(date, close_time),\n",
    "        freq='1S',\n",
    "        closed='left'\n",
    "    )\n",
    "    period_grouper = pd.Grouper(key='time', freq='1S')\n",
    "    \n",
    "    prices = pd.DataFrame(index=price_index).merge(\n",
    "        trades.groupby(period_grouper)['price'].median(),\n",
    "        how='left',\n",
    "        left_index=True,\n",
    "        right_index=True\n",
    "    )\n",
    "#     prices = trades.groupby(period_grouper)['price'].median()\n",
    "#     # Propegate last valid observation forward.\n",
    "#     prices = prices.fillna(method='ffill')\n",
    "\n",
    "prices.head()"
   ]
  },
  {
   "cell_type": "code",
   "execution_count": 8,
   "metadata": {},
   "outputs": [
    {
     "data": {
      "text/html": [
       "<div>\n",
       "<style scoped>\n",
       "    .dataframe tbody tr th:only-of-type {\n",
       "        vertical-align: middle;\n",
       "    }\n",
       "\n",
       "    .dataframe tbody tr th {\n",
       "        vertical-align: top;\n",
       "    }\n",
       "\n",
       "    .dataframe thead th {\n",
       "        text-align: right;\n",
       "    }\n",
       "</style>\n",
       "<table border=\"1\" class=\"dataframe\">\n",
       "  <thead>\n",
       "    <tr style=\"text-align: right;\">\n",
       "      <th></th>\n",
       "      <th>price</th>\n",
       "    </tr>\n",
       "  </thead>\n",
       "  <tbody>\n",
       "    <tr>\n",
       "      <th>2015-05-28 11:46:40</th>\n",
       "      <td>47.55</td>\n",
       "    </tr>\n",
       "    <tr>\n",
       "      <th>2015-05-28 11:46:41</th>\n",
       "      <td>NaN</td>\n",
       "    </tr>\n",
       "    <tr>\n",
       "      <th>2015-05-28 11:46:42</th>\n",
       "      <td>47.55</td>\n",
       "    </tr>\n",
       "    <tr>\n",
       "      <th>2015-05-28 11:46:43</th>\n",
       "      <td>NaN</td>\n",
       "    </tr>\n",
       "    <tr>\n",
       "      <th>2015-05-28 11:46:44</th>\n",
       "      <td>NaN</td>\n",
       "    </tr>\n",
       "    <tr>\n",
       "      <th>...</th>\n",
       "      <td>...</td>\n",
       "    </tr>\n",
       "    <tr>\n",
       "      <th>2015-05-28 17:59:55</th>\n",
       "      <td>NaN</td>\n",
       "    </tr>\n",
       "    <tr>\n",
       "      <th>2015-05-28 17:59:56</th>\n",
       "      <td>NaN</td>\n",
       "    </tr>\n",
       "    <tr>\n",
       "      <th>2015-05-28 17:59:57</th>\n",
       "      <td>NaN</td>\n",
       "    </tr>\n",
       "    <tr>\n",
       "      <th>2015-05-28 17:59:58</th>\n",
       "      <td>NaN</td>\n",
       "    </tr>\n",
       "    <tr>\n",
       "      <th>2015-05-28 17:59:59</th>\n",
       "      <td>NaN</td>\n",
       "    </tr>\n",
       "  </tbody>\n",
       "</table>\n",
       "<p>22400 rows × 1 columns</p>\n",
       "</div>"
      ],
      "text/plain": [
       "                     price\n",
       "2015-05-28 11:46:40  47.55\n",
       "2015-05-28 11:46:41    NaN\n",
       "2015-05-28 11:46:42  47.55\n",
       "2015-05-28 11:46:43    NaN\n",
       "2015-05-28 11:46:44    NaN\n",
       "...                    ...\n",
       "2015-05-28 17:59:55    NaN\n",
       "2015-05-28 17:59:56    NaN\n",
       "2015-05-28 17:59:57    NaN\n",
       "2015-05-28 17:59:58    NaN\n",
       "2015-05-28 17:59:59    NaN\n",
       "\n",
       "[22400 rows x 1 columns]"
      ]
     },
     "execution_count": 8,
     "metadata": {},
     "output_type": "execute_result"
    }
   ],
   "source": [
    "\n"
   ]
  },
  {
   "cell_type": "markdown",
   "metadata": {},
   "source": [
    "### Target variable\n",
    "The future price to predict. The variable classified into either `buy`, `don't sell`, or `sell` depending on the relative increase from the current price to the price in `m` seconds. For now, `m` is set to `5`. "
   ]
  },
  {
   "cell_type": "code",
   "execution_count": null,
   "metadata": {},
   "outputs": [],
   "source": [
    "ticker = 'MSFT'\n",
    "exchange = db.get_ticker_details(ticker)['exchange']\n",
    "\n",
    "frequency = '1S' # 1 second\n",
    "\n",
    "stored_dates = sorted(db.get_stored_dates('trades', ticker))\n",
    "\n",
    "\n",
    "trades\n",
    "\n",
    "for date in stored_dates[::-1]:\n",
    "    \n",
    "    # Determine open hours (by Robinhood/Alpaca)\n",
    "\n",
    "    trades = pd.DataFrame(\n",
    "        db.get_trades(ticker, date), \n",
    "        columns=['timestamp', 'price', 'volume']\n",
    "    )\n",
    "    trades['time'] = pd.to_datetime(trades['timestamp']) - pd.DateOffset(hours=5) # America/New Yow\n",
    "    \n",
    "    price_index = pd.date_range(\n",
    "        datetime.datetime.combine(date, start_time),\n",
    "        datetime.datetime.combine(date, close_time),\n",
    "        freq=frequency,\n",
    "        closed='left'\n",
    "    )\n",
    "    \n",
    "    prices = pd.DataFrame(index=price_index).merge(\n",
    "        trades.groupby(pd.Grouper(key='time', freq=frequency))['price'].median(),\n",
    "        how='left',\n",
    "        left_index=True,\n",
    "        right_index=True\n",
    "    )\n",
    "    \n",
    "    # Propegate last valid observation forward.\n",
    "    prices = prices.fillna(method='ffill')\n",
    "\n",
    "    break\n",
    "    \n",
    "prices\n",
    "\n",
    "description = 'Price'\n",
    "db.store_feature(ticker, 'target', prices, description)"
   ]
  },
  {
   "cell_type": "code",
   "execution_count": null,
   "metadata": {},
   "outputs": [],
   "source": []
  },
  {
   "cell_type": "markdown",
   "metadata": {},
   "source": [
    "### Check features for outliers"
   ]
  },
  {
   "cell_type": "code",
   "execution_count": null,
   "metadata": {},
   "outputs": [],
   "source": []
  },
  {
   "cell_type": "markdown",
   "metadata": {},
   "source": [
    "### Check feature importance"
   ]
  },
  {
   "cell_type": "code",
   "execution_count": null,
   "metadata": {},
   "outputs": [],
   "source": []
  },
  {
   "cell_type": "markdown",
   "metadata": {},
   "source": [
    "## Hyperparameter tuning\n",
    "\n",
    "- Feature time window\n",
    "- Target variable future time"
   ]
  },
  {
   "cell_type": "code",
   "execution_count": null,
   "metadata": {},
   "outputs": [],
   "source": []
  }
 ],
 "metadata": {
  "kernelspec": {
   "display_name": "Python 3",
   "language": "python",
   "name": "python3"
  },
  "language_info": {
   "codemirror_mode": {
    "name": "ipython",
    "version": 3
   },
   "file_extension": ".py",
   "mimetype": "text/x-python",
   "name": "python",
   "nbconvert_exporter": "python",
   "pygments_lexer": "ipython3",
   "version": "3.6.9"
  }
 },
 "nbformat": 4,
 "nbformat_minor": 4
}
