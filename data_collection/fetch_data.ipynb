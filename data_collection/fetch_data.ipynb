{
 "cells": [
  {
   "cell_type": "code",
   "execution_count": 49,
   "metadata": {},
   "outputs": [],
   "source": [
    "#import time\n",
    "import time\n",
    "import datetime\n",
    "import logging\n",
    "import requests\n",
    "\n",
    "import pandas as pd\n",
    "\n",
    "import config\n",
    "\n",
    "logging.basicConfig(format='%(asctime)s %(message)s', datefmt='%H:%M:%S')\n",
    "logger = logging.getLogger()\n",
    "logger.setLevel(logging.INFO)\n",
    "\n",
    "\n",
    "%run database.ipynb # import Database class\n",
    "\n",
    "db = Database()"
   ]
  },
  {
   "cell_type": "code",
   "execution_count": 50,
   "metadata": {},
   "outputs": [
    {
     "name": "stderr",
     "output_type": "stream",
     "text": [
      "21:01:59 Could not complete request /v2/ticks/stocks/trades/AAPL/2020-01-01 (Error: 404, attempts left: 5)\n",
      "21:02:04 Could not complete request /v2/ticks/stocks/trades/AAPL/2020-01-01 (Error: 404, attempts left: 4)\n",
      "21:02:10 Could not complete request /v2/ticks/stocks/trades/AAPL/2020-01-01 (Error: 404, attempts left: 3)\n",
      "21:02:15 Could not complete request /v2/ticks/stocks/trades/AAPL/2020-01-01 (Error: 404, attempts left: 2)\n",
      "21:02:20 Could not complete request /v2/ticks/stocks/trades/AAPL/2020-01-01 (Error: 404, attempts left: 1)\n"
     ]
    },
    {
     "ename": "TypeError",
     "evalue": "'NoneType' object is not subscriptable",
     "output_type": "error",
     "traceback": [
      "\u001b[0;31m---------------------------------------------------------------------------\u001b[0m",
      "\u001b[0;31mTypeError\u001b[0m                                 Traceback (most recent call last)",
      "\u001b[0;32m<ipython-input-50-5bbb0abf5b1f>\u001b[0m in \u001b[0;36m<module>\u001b[0;34m\u001b[0m\n\u001b[1;32m     68\u001b[0m \u001b[0;34m\u001b[0m\u001b[0m\n\u001b[1;32m     69\u001b[0m \u001b[0md\u001b[0m \u001b[0;34m=\u001b[0m \u001b[0mDataFetcher\u001b[0m\u001b[0;34m(\u001b[0m\u001b[0;34m)\u001b[0m\u001b[0;34m\u001b[0m\u001b[0;34m\u001b[0m\u001b[0m\n\u001b[0;32m---> 70\u001b[0;31m \u001b[0ma\u001b[0m \u001b[0;34m=\u001b[0m \u001b[0md\u001b[0m\u001b[0;34m.\u001b[0m\u001b[0mget_daily_trades\u001b[0m\u001b[0;34m(\u001b[0m\u001b[0;34m'AAPL'\u001b[0m\u001b[0;34m,\u001b[0m \u001b[0mdatetime\u001b[0m\u001b[0;34m.\u001b[0m\u001b[0mdate\u001b[0m\u001b[0;34m(\u001b[0m\u001b[0;36m2020\u001b[0m\u001b[0;34m,\u001b[0m \u001b[0;36m1\u001b[0m\u001b[0;34m,\u001b[0m \u001b[0;36m1\u001b[0m\u001b[0;34m)\u001b[0m\u001b[0;34m)\u001b[0m\u001b[0;34m\u001b[0m\u001b[0;34m\u001b[0m\u001b[0m\n\u001b[0m",
      "\u001b[0;32m<ipython-input-50-5bbb0abf5b1f>\u001b[0m in \u001b[0;36mget_daily_trades\u001b[0;34m(self, ticker, date, start_time)\u001b[0m\n\u001b[1;32m     57\u001b[0m         \u001b[0;31m# Exclude first trade in responses as it was already present in the\u001b[0m\u001b[0;34m\u001b[0m\u001b[0;34m\u001b[0m\u001b[0;34m\u001b[0m\u001b[0m\n\u001b[1;32m     58\u001b[0m         \u001b[0;31m# previous request.\u001b[0m\u001b[0;34m\u001b[0m\u001b[0;34m\u001b[0m\u001b[0;34m\u001b[0m\u001b[0m\n\u001b[0;32m---> 59\u001b[0;31m         \u001b[0mtrades\u001b[0m \u001b[0;34m=\u001b[0m \u001b[0mresponse\u001b[0m\u001b[0;34m[\u001b[0m\u001b[0;34m'results'\u001b[0m\u001b[0;34m]\u001b[0m\u001b[0;34m[\u001b[0m\u001b[0mint\u001b[0m\u001b[0;34m(\u001b[0m\u001b[0mstart_time\u001b[0m \u001b[0;34m>\u001b[0m \u001b[0;36m0\u001b[0m\u001b[0;34m)\u001b[0m\u001b[0;34m:\u001b[0m\u001b[0;34m]\u001b[0m\u001b[0;34m\u001b[0m\u001b[0;34m\u001b[0m\u001b[0m\n\u001b[0m\u001b[1;32m     60\u001b[0m \u001b[0;34m\u001b[0m\u001b[0m\n\u001b[1;32m     61\u001b[0m         \u001b[0;31m# Repeat requests until all daily trades have been fetched.\u001b[0m\u001b[0;34m\u001b[0m\u001b[0;34m\u001b[0m\u001b[0;34m\u001b[0m\u001b[0m\n",
      "\u001b[0;31mTypeError\u001b[0m: 'NoneType' object is not subscriptable"
     ]
    }
   ],
   "source": [
    "class DataFetcher:\n",
    "    \"\"\" Fetch market data and historical data from the Polygon API.\n",
    "    \n",
    "    The frequency of requests is capped to avoid going beyond what Polygon \n",
    "    permits. The request is stalled upon reaching the maximum allowed frequency.\n",
    "    \n",
    "    \"\"\"\n",
    "    \n",
    "    MAX_REQUEST_PER_MINUTE = 200\n",
    "    STALL_TIME_UPON_MAX_REQUESTS = 3\n",
    "    MAX_ATTEMPTS = 5\n",
    "    \n",
    "    def __init__(self):\n",
    "        self._recent_requests = []\n",
    "        \n",
    "    def _request(self, url, params={}, attempts_left=DataFetcher.MAX_ATTEMPTS):\n",
    "        params['apiKey'] = config.api_key\n",
    "        result = requests.get(f'https://api.polygon.io{url}', params=params)\n",
    "\n",
    "        if result.status_code == 200:\n",
    "            json = result.json()\n",
    "            if json.get('success', True):\n",
    "                return json\n",
    "        \n",
    "        if attempts_left == 0:\n",
    "            return None\n",
    "        \n",
    "        logging.error(\n",
    "            f'Could not complete request {url} '\n",
    "            f'(Error: {result.status_code}, attempts left: {attempts_left})'\n",
    "        )\n",
    "        time.sleep(5)\n",
    "        return self._request(url, params, attempts_left-1)\n",
    "    \n",
    "    def get_ticker_details(self, ticker):\n",
    "        # https://polygon.io/docs/get_v1_meta_symbols__stocksTicker__company_anchor\n",
    "        url = f'/v1/meta/symbols/{ticker}/company'\n",
    "        return self._request(url)\n",
    "    \n",
    "    \n",
    "    def get_daily_trades(self, ticker, date, start_time=0):\n",
    "        # https://polygon.io/docs/get_v2_ticks_stocks_trades__ticker___date__anchor\n",
    "        \n",
    "        TRADES_PER_REQUEST = 50000\n",
    "        \n",
    "        if type(date) == datetime.date:\n",
    "            date = date.strftime('%Y-%m-%d')\n",
    "            \n",
    "        url = f'/v2/ticks/stocks/trades/{ticker}/{date}'\n",
    "        params = {\n",
    "            'timestamp': start_time,\n",
    "            'limit': TRADES_PER_REQUEST\n",
    "        }\n",
    "\n",
    "        response = self._request(url, params)\n",
    "        if response is None:\n",
    "            return None\n",
    "\n",
    "        # Exclude first trade in responses as it was already present in the \n",
    "        # previous request.\n",
    "        trades = response['results'][int(start_time > 0):]\n",
    "\n",
    "        # Repeat requests until all daily trades have been fetched.\n",
    "        if response['results_count'] >= TRADES_PER_REQUEST:\n",
    "            trades.extend(self.get_daily_trades(ticker, date, start_time=trades[-1]['t']))\n",
    "        \n",
    "        return trades\n",
    "        \n",
    "        \n",
    "        \n",
    "d = DataFetcher()\n",
    "a = d.get_daily_trades('AAPL', datetime.date(2020, 1, 1))\n"
   ]
  },
  {
   "cell_type": "code",
   "execution_count": 47,
   "metadata": {},
   "outputs": [
    {
     "name": "stdout",
     "output_type": "stream",
     "text": [
      "{'t': 1577977011641553544, 'y': 1577977011641275029, 'q': 338517, 'i': '475', 'x': 15, 's': 3, 'c': [37], 'p': 297.75, 'z': 3}\n",
      "{'t': 1577977011641704727, 'y': 1577977011639000000, 'f': 1577977011641668502, 'q': 338518, 'i': '11739', 'x': 4, 'r': 12, 's': 3, 'c': [37], 'p': 297.7342, 'z': 3}\n"
     ]
    }
   ],
   "source": [
    "print(a[50000-1])\n",
    "print(a[50000])"
   ]
  }
 ],
 "metadata": {
  "kernelspec": {
   "display_name": "Python 3",
   "language": "python",
   "name": "python3"
  },
  "language_info": {
   "codemirror_mode": {
    "name": "ipython",
    "version": 3
   },
   "file_extension": ".py",
   "mimetype": "text/x-python",
   "name": "python",
   "nbconvert_exporter": "python",
   "pygments_lexer": "ipython3",
   "version": "3.6.9"
  }
 },
 "nbformat": 4,
 "nbformat_minor": 4
}
